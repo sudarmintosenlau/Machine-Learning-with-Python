{
  "nbformat": 4,
  "nbformat_minor": 0,
  "metadata": {
    "colab": {
      "name": "Membuat Model Machine Learning dengan Data Time Series",
      "provenance": [],
      "collapsed_sections": [],
      "authorship_tag": "ABX9TyPzXMAQzdNIoqjmvaRJA5XC",
      "include_colab_link": true
    },
    "kernelspec": {
      "name": "python3",
      "display_name": "Python 3"
    },
    "language_info": {
      "name": "python"
    }
  },
  "cells": [
    {
      "cell_type": "markdown",
      "metadata": {
        "id": "view-in-github",
        "colab_type": "text"
      },
      "source": [
        "<a href=\"https://colab.research.google.com/github/sudarmintosenlau/Machine-Learning-with-Python/blob/main/Membuat_Model_Machine_Learning_dengan_Data_Time_Series.ipynb\" target=\"_parent\"><img src=\"https://colab.research.google.com/assets/colab-badge.svg\" alt=\"Open In Colab\"/></a>"
      ]
    },
    {
      "cell_type": "markdown",
      "metadata": {
        "id": "a876MbfbPl3i"
      },
      "source": [
        "<h1><center>INFORMASI DIRI</center></h1>\n",
        "\n",
        "---\n",
        "\n",
        "**Sudarminto Senlau**\n",
        "\n",
        "![an image](https://img.icons8.com/material-two-tone/2x/incoming-call.png)\n",
        "**085739022843**\n",
        "\n",
        "![an image](https://img.icons8.com/fluent-systems-regular/2x/gmail.png)\n",
        "**sudarmintosenlau37@gmail.com**\n",
        "\n",
        "![an image](https://img.icons8.com/material-rounded/2x/address.png)\n",
        "**Kupang, Nusa Tenggara Timur**\n",
        "\n",
        "![an image](https://img.icons8.com/fluent-systems-filled/2x/linkedin.png)\n",
        "[Linkedin](https://www.linkedin.com/in/sudarminto-senlau/)\n",
        "\n",
        "---"
      ]
    },
    {
      "cell_type": "markdown",
      "metadata": {
        "id": "CrI4-Yu-P7kR"
      },
      "source": [
        "<h1><center>Submission at Dicoding</center></h1>\n",
        "\n",
        "#### Membuat Model Machine Learning dengan Data Time Series: Peramalan Penutupan Harga Saham"
      ]
    },
    {
      "cell_type": "code",
      "metadata": {
        "colab": {
          "resources": {
            "http://localhost:8080/nbextensions/google.colab/files.js": {
              "data": "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",
              "ok": true,
              "headers": [
                [
                  "content-type",
                  "application/javascript"
                ]
              ],
              "status": 200,
              "status_text": ""
            }
          },
          "base_uri": "https://localhost:8080/",
          "height": 70
        },
        "id": "oG0mhxCnPiu0",
        "outputId": "d1c843f6-ecf9-4f46-d956-66a161558b46"
      },
      "source": [
        "# Mengimport library\n",
        "import pandas as pd\n",
        "import numpy as np\n",
        "import matplotlib.pyplot as plt\n",
        "from sklearn.preprocessing import MinMaxScaler\n",
        "from tensorflow.keras.models import Sequential\n",
        "from tensorflow.keras.layers import Dense, LSTM\n",
        "from google.colab import files\n",
        "filenya = files.upload()"
      ],
      "execution_count": 1,
      "outputs": [
        {
          "output_type": "display_data",
          "data": {
            "text/html": [
              "\n",
              "     <input type=\"file\" id=\"files-2ce226ac-e22c-4bcc-bfe0-17bf675917f6\" name=\"files[]\" multiple disabled\n",
              "        style=\"border:none\" />\n",
              "     <output id=\"result-2ce226ac-e22c-4bcc-bfe0-17bf675917f6\">\n",
              "      Upload widget is only available when the cell has been executed in the\n",
              "      current browser session. Please rerun this cell to enable.\n",
              "      </output>\n",
              "      <script src=\"/nbextensions/google.colab/files.js\"></script> "
            ],
            "text/plain": [
              "<IPython.core.display.HTML object>"
            ]
          },
          "metadata": {
            "tags": []
          }
        },
        {
          "output_type": "stream",
          "text": [
            "Saving prices-split-adjusted.csv to prices-split-adjusted.csv\n"
          ],
          "name": "stdout"
        }
      ]
    },
    {
      "cell_type": "code",
      "metadata": {
        "colab": {
          "base_uri": "https://localhost:8080/",
          "height": 408
        },
        "id": "NkIkM8Z8VS4f",
        "outputId": "1f2a69ca-aa2c-466c-b525-85bd4b63e6e8"
      },
      "source": [
        "# Membuat dataframe dari dateset\n",
        "data = pd.read_csv('prices-split-adjusted.csv')\n",
        "data"
      ],
      "execution_count": 2,
      "outputs": [
        {
          "output_type": "execute_result",
          "data": {
            "text/html": [
              "<div>\n",
              "<style scoped>\n",
              "    .dataframe tbody tr th:only-of-type {\n",
              "        vertical-align: middle;\n",
              "    }\n",
              "\n",
              "    .dataframe tbody tr th {\n",
              "        vertical-align: top;\n",
              "    }\n",
              "\n",
              "    .dataframe thead th {\n",
              "        text-align: right;\n",
              "    }\n",
              "</style>\n",
              "<table border=\"1\" class=\"dataframe\">\n",
              "  <thead>\n",
              "    <tr style=\"text-align: right;\">\n",
              "      <th></th>\n",
              "      <th>date</th>\n",
              "      <th>symbol</th>\n",
              "      <th>open</th>\n",
              "      <th>close</th>\n",
              "      <th>low</th>\n",
              "      <th>high</th>\n",
              "      <th>volume</th>\n",
              "    </tr>\n",
              "  </thead>\n",
              "  <tbody>\n",
              "    <tr>\n",
              "      <th>0</th>\n",
              "      <td>2016-01-05</td>\n",
              "      <td>WLTW</td>\n",
              "      <td>123.430000</td>\n",
              "      <td>125.839996</td>\n",
              "      <td>122.309998</td>\n",
              "      <td>126.250000</td>\n",
              "      <td>2163600.0</td>\n",
              "    </tr>\n",
              "    <tr>\n",
              "      <th>1</th>\n",
              "      <td>2016-01-06</td>\n",
              "      <td>WLTW</td>\n",
              "      <td>125.239998</td>\n",
              "      <td>119.980003</td>\n",
              "      <td>119.940002</td>\n",
              "      <td>125.540001</td>\n",
              "      <td>2386400.0</td>\n",
              "    </tr>\n",
              "    <tr>\n",
              "      <th>2</th>\n",
              "      <td>2016-01-07</td>\n",
              "      <td>WLTW</td>\n",
              "      <td>116.379997</td>\n",
              "      <td>114.949997</td>\n",
              "      <td>114.930000</td>\n",
              "      <td>119.739998</td>\n",
              "      <td>2489500.0</td>\n",
              "    </tr>\n",
              "    <tr>\n",
              "      <th>3</th>\n",
              "      <td>2016-01-08</td>\n",
              "      <td>WLTW</td>\n",
              "      <td>115.480003</td>\n",
              "      <td>116.620003</td>\n",
              "      <td>113.500000</td>\n",
              "      <td>117.440002</td>\n",
              "      <td>2006300.0</td>\n",
              "    </tr>\n",
              "    <tr>\n",
              "      <th>4</th>\n",
              "      <td>2016-01-11</td>\n",
              "      <td>WLTW</td>\n",
              "      <td>117.010002</td>\n",
              "      <td>114.970001</td>\n",
              "      <td>114.089996</td>\n",
              "      <td>117.330002</td>\n",
              "      <td>1408600.0</td>\n",
              "    </tr>\n",
              "    <tr>\n",
              "      <th>...</th>\n",
              "      <td>...</td>\n",
              "      <td>...</td>\n",
              "      <td>...</td>\n",
              "      <td>...</td>\n",
              "      <td>...</td>\n",
              "      <td>...</td>\n",
              "      <td>...</td>\n",
              "    </tr>\n",
              "    <tr>\n",
              "      <th>851259</th>\n",
              "      <td>2016-12-30</td>\n",
              "      <td>ZBH</td>\n",
              "      <td>103.309998</td>\n",
              "      <td>103.199997</td>\n",
              "      <td>102.849998</td>\n",
              "      <td>103.930000</td>\n",
              "      <td>973800.0</td>\n",
              "    </tr>\n",
              "    <tr>\n",
              "      <th>851260</th>\n",
              "      <td>2016-12-30</td>\n",
              "      <td>ZION</td>\n",
              "      <td>43.070000</td>\n",
              "      <td>43.040001</td>\n",
              "      <td>42.689999</td>\n",
              "      <td>43.310001</td>\n",
              "      <td>1938100.0</td>\n",
              "    </tr>\n",
              "    <tr>\n",
              "      <th>851261</th>\n",
              "      <td>2016-12-30</td>\n",
              "      <td>ZTS</td>\n",
              "      <td>53.639999</td>\n",
              "      <td>53.529999</td>\n",
              "      <td>53.270000</td>\n",
              "      <td>53.740002</td>\n",
              "      <td>1701200.0</td>\n",
              "    </tr>\n",
              "    <tr>\n",
              "      <th>851262</th>\n",
              "      <td>2016-12-30</td>\n",
              "      <td>AIV</td>\n",
              "      <td>44.730000</td>\n",
              "      <td>45.450001</td>\n",
              "      <td>44.410000</td>\n",
              "      <td>45.590000</td>\n",
              "      <td>1380900.0</td>\n",
              "    </tr>\n",
              "    <tr>\n",
              "      <th>851263</th>\n",
              "      <td>2016-12-30</td>\n",
              "      <td>FTV</td>\n",
              "      <td>54.200001</td>\n",
              "      <td>53.630001</td>\n",
              "      <td>53.389999</td>\n",
              "      <td>54.480000</td>\n",
              "      <td>705100.0</td>\n",
              "    </tr>\n",
              "  </tbody>\n",
              "</table>\n",
              "<p>851264 rows × 7 columns</p>\n",
              "</div>"
            ],
            "text/plain": [
              "              date symbol        open  ...         low        high     volume\n",
              "0       2016-01-05   WLTW  123.430000  ...  122.309998  126.250000  2163600.0\n",
              "1       2016-01-06   WLTW  125.239998  ...  119.940002  125.540001  2386400.0\n",
              "2       2016-01-07   WLTW  116.379997  ...  114.930000  119.739998  2489500.0\n",
              "3       2016-01-08   WLTW  115.480003  ...  113.500000  117.440002  2006300.0\n",
              "4       2016-01-11   WLTW  117.010002  ...  114.089996  117.330002  1408600.0\n",
              "...            ...    ...         ...  ...         ...         ...        ...\n",
              "851259  2016-12-30    ZBH  103.309998  ...  102.849998  103.930000   973800.0\n",
              "851260  2016-12-30   ZION   43.070000  ...   42.689999   43.310001  1938100.0\n",
              "851261  2016-12-30    ZTS   53.639999  ...   53.270000   53.740002  1701200.0\n",
              "851262  2016-12-30    AIV   44.730000  ...   44.410000   45.590000  1380900.0\n",
              "851263  2016-12-30    FTV   54.200001  ...   53.389999   54.480000   705100.0\n",
              "\n",
              "[851264 rows x 7 columns]"
            ]
          },
          "metadata": {
            "tags": []
          },
          "execution_count": 2
        }
      ]
    },
    {
      "cell_type": "code",
      "metadata": {
        "colab": {
          "base_uri": "https://localhost:8080/",
          "height": 408
        },
        "id": "RUENUzTAV31u",
        "outputId": "1f5c71b0-4d45-4594-e07d-5221e79681b0"
      },
      "source": [
        "data = data[data['symbol']=='AAP']\n",
        "data"
      ],
      "execution_count": 3,
      "outputs": [
        {
          "output_type": "execute_result",
          "data": {
            "text/html": [
              "<div>\n",
              "<style scoped>\n",
              "    .dataframe tbody tr th:only-of-type {\n",
              "        vertical-align: middle;\n",
              "    }\n",
              "\n",
              "    .dataframe tbody tr th {\n",
              "        vertical-align: top;\n",
              "    }\n",
              "\n",
              "    .dataframe thead th {\n",
              "        text-align: right;\n",
              "    }\n",
              "</style>\n",
              "<table border=\"1\" class=\"dataframe\">\n",
              "  <thead>\n",
              "    <tr style=\"text-align: right;\">\n",
              "      <th></th>\n",
              "      <th>date</th>\n",
              "      <th>symbol</th>\n",
              "      <th>open</th>\n",
              "      <th>close</th>\n",
              "      <th>low</th>\n",
              "      <th>high</th>\n",
              "      <th>volume</th>\n",
              "    </tr>\n",
              "  </thead>\n",
              "  <tbody>\n",
              "    <tr>\n",
              "      <th>253</th>\n",
              "      <td>2010-01-04</td>\n",
              "      <td>AAP</td>\n",
              "      <td>40.700001</td>\n",
              "      <td>40.380001</td>\n",
              "      <td>40.360001</td>\n",
              "      <td>41.040001</td>\n",
              "      <td>1701700.0</td>\n",
              "    </tr>\n",
              "    <tr>\n",
              "      <th>720</th>\n",
              "      <td>2010-01-05</td>\n",
              "      <td>AAP</td>\n",
              "      <td>40.299999</td>\n",
              "      <td>40.139999</td>\n",
              "      <td>39.720001</td>\n",
              "      <td>40.310001</td>\n",
              "      <td>1932400.0</td>\n",
              "    </tr>\n",
              "    <tr>\n",
              "      <th>1188</th>\n",
              "      <td>2010-01-06</td>\n",
              "      <td>AAP</td>\n",
              "      <td>40.049999</td>\n",
              "      <td>40.490002</td>\n",
              "      <td>40.049999</td>\n",
              "      <td>40.779999</td>\n",
              "      <td>1406200.0</td>\n",
              "    </tr>\n",
              "    <tr>\n",
              "      <th>1656</th>\n",
              "      <td>2010-01-07</td>\n",
              "      <td>AAP</td>\n",
              "      <td>39.549999</td>\n",
              "      <td>40.480000</td>\n",
              "      <td>39.549999</td>\n",
              "      <td>40.540001</td>\n",
              "      <td>1256800.0</td>\n",
              "    </tr>\n",
              "    <tr>\n",
              "      <th>2124</th>\n",
              "      <td>2010-01-08</td>\n",
              "      <td>AAP</td>\n",
              "      <td>40.250000</td>\n",
              "      <td>40.639999</td>\n",
              "      <td>40.110001</td>\n",
              "      <td>40.820000</td>\n",
              "      <td>960300.0</td>\n",
              "    </tr>\n",
              "    <tr>\n",
              "      <th>...</th>\n",
              "      <td>...</td>\n",
              "      <td>...</td>\n",
              "      <td>...</td>\n",
              "      <td>...</td>\n",
              "      <td>...</td>\n",
              "      <td>...</td>\n",
              "      <td>...</td>\n",
              "    </tr>\n",
              "    <tr>\n",
              "      <th>848766</th>\n",
              "      <td>2016-12-23</td>\n",
              "      <td>AAP</td>\n",
              "      <td>170.690002</td>\n",
              "      <td>170.889999</td>\n",
              "      <td>170.000000</td>\n",
              "      <td>172.080002</td>\n",
              "      <td>334200.0</td>\n",
              "    </tr>\n",
              "    <tr>\n",
              "      <th>849266</th>\n",
              "      <td>2016-12-27</td>\n",
              "      <td>AAP</td>\n",
              "      <td>170.720001</td>\n",
              "      <td>171.839996</td>\n",
              "      <td>170.720001</td>\n",
              "      <td>172.750000</td>\n",
              "      <td>508700.0</td>\n",
              "    </tr>\n",
              "    <tr>\n",
              "      <th>849766</th>\n",
              "      <td>2016-12-28</td>\n",
              "      <td>AAP</td>\n",
              "      <td>172.009995</td>\n",
              "      <td>170.419998</td>\n",
              "      <td>170.350006</td>\n",
              "      <td>172.929993</td>\n",
              "      <td>357100.0</td>\n",
              "    </tr>\n",
              "    <tr>\n",
              "      <th>850266</th>\n",
              "      <td>2016-12-29</td>\n",
              "      <td>AAP</td>\n",
              "      <td>170.080002</td>\n",
              "      <td>170.279999</td>\n",
              "      <td>169.460007</td>\n",
              "      <td>171.080002</td>\n",
              "      <td>431400.0</td>\n",
              "    </tr>\n",
              "    <tr>\n",
              "      <th>850766</th>\n",
              "      <td>2016-12-30</td>\n",
              "      <td>AAP</td>\n",
              "      <td>171.320007</td>\n",
              "      <td>169.119995</td>\n",
              "      <td>168.600006</td>\n",
              "      <td>172.000000</td>\n",
              "      <td>489300.0</td>\n",
              "    </tr>\n",
              "  </tbody>\n",
              "</table>\n",
              "<p>1762 rows × 7 columns</p>\n",
              "</div>"
            ],
            "text/plain": [
              "              date symbol        open  ...         low        high     volume\n",
              "253     2010-01-04    AAP   40.700001  ...   40.360001   41.040001  1701700.0\n",
              "720     2010-01-05    AAP   40.299999  ...   39.720001   40.310001  1932400.0\n",
              "1188    2010-01-06    AAP   40.049999  ...   40.049999   40.779999  1406200.0\n",
              "1656    2010-01-07    AAP   39.549999  ...   39.549999   40.540001  1256800.0\n",
              "2124    2010-01-08    AAP   40.250000  ...   40.110001   40.820000   960300.0\n",
              "...            ...    ...         ...  ...         ...         ...        ...\n",
              "848766  2016-12-23    AAP  170.690002  ...  170.000000  172.080002   334200.0\n",
              "849266  2016-12-27    AAP  170.720001  ...  170.720001  172.750000   508700.0\n",
              "849766  2016-12-28    AAP  172.009995  ...  170.350006  172.929993   357100.0\n",
              "850266  2016-12-29    AAP  170.080002  ...  169.460007  171.080002   431400.0\n",
              "850766  2016-12-30    AAP  171.320007  ...  168.600006  172.000000   489300.0\n",
              "\n",
              "[1762 rows x 7 columns]"
            ]
          },
          "metadata": {
            "tags": []
          },
          "execution_count": 3
        }
      ]
    },
    {
      "cell_type": "code",
      "metadata": {
        "colab": {
          "base_uri": "https://localhost:8080/"
        },
        "id": "1-Fc9DRIYA_Z",
        "outputId": "e9a12bfb-215e-4be3-a10b-fee7b34457da"
      },
      "source": [
        "data.isnull().sum()"
      ],
      "execution_count": 4,
      "outputs": [
        {
          "output_type": "execute_result",
          "data": {
            "text/plain": [
              "date      0\n",
              "symbol    0\n",
              "open      0\n",
              "close     0\n",
              "low       0\n",
              "high      0\n",
              "volume    0\n",
              "dtype: int64"
            ]
          },
          "metadata": {
            "tags": []
          },
          "execution_count": 4
        }
      ]
    },
    {
      "cell_type": "code",
      "metadata": {
        "colab": {
          "base_uri": "https://localhost:8080/"
        },
        "id": "fhmpTMyMYEZK",
        "outputId": "57d879af-59be-44bc-8b43-0341ed673d6a"
      },
      "source": [
        "data_close = data.reset_index()['close']\n",
        "data_close.tail()"
      ],
      "execution_count": 5,
      "outputs": [
        {
          "output_type": "execute_result",
          "data": {
            "text/plain": [
              "1757    170.889999\n",
              "1758    171.839996\n",
              "1759    170.419998\n",
              "1760    170.279999\n",
              "1761    169.119995\n",
              "Name: close, dtype: float64"
            ]
          },
          "metadata": {
            "tags": []
          },
          "execution_count": 5
        }
      ]
    },
    {
      "cell_type": "code",
      "metadata": {
        "colab": {
          "base_uri": "https://localhost:8080/"
        },
        "id": "0B10ARhUYfgL",
        "outputId": "cd798796-c8d9-4f56-8c38-adf1d34b5117"
      },
      "source": [
        "data_close.shape"
      ],
      "execution_count": 7,
      "outputs": [
        {
          "output_type": "execute_result",
          "data": {
            "text/plain": [
              "(1762,)"
            ]
          },
          "metadata": {
            "tags": []
          },
          "execution_count": 7
        }
      ]
    },
    {
      "cell_type": "code",
      "metadata": {
        "colab": {
          "base_uri": "https://localhost:8080/",
          "height": 265
        },
        "id": "XA2TRtKVYsKS",
        "outputId": "cd296621-9f80-4e7b-da14-b5420e785a5b"
      },
      "source": [
        "plt.plot(data_close, color = \"green\")\n",
        "plt.show()"
      ],
      "execution_count": 9,
      "outputs": [
        {
          "output_type": "display_data",
          "data": {
            "image/png": "[encoded data removed]",
            "text/plain": [
              "<Figure size 432x288 with 1 Axes>"
            ]
          },
          "metadata": {
            "tags": [],
            "needs_background": "light"
          }
        }
      ]
    },
    {
      "cell_type": "markdown",
      "metadata": {
        "id": "OUUxUqwhZ-NI"
      },
      "source": [
        "Preproses dengan melakukan Normalisasi (MinMaxScaler)"
      ]
    },
    {
      "cell_type": "code",
      "metadata": {
        "id": "_B8HXxUvZ2WX"
      },
      "source": [
        "scaler = MinMaxScaler(feature_range=(0,1))\n",
        "data_close = scaler.fit_transform(np.array(data_close).reshape(-1,1))"
      ],
      "execution_count": 10,
      "outputs": []
    },
    {
      "cell_type": "code",
      "metadata": {
        "colab": {
          "base_uri": "https://localhost:8080/"
        },
        "id": "e9NnD7yaadyO",
        "outputId": "2236fdbe-ed2c-4328-9176-c89fd573541f"
      },
      "source": [
        "data_close.shape"
      ],
      "execution_count": 11,
      "outputs": [
        {
          "output_type": "execute_result",
          "data": {
            "text/plain": [
              "(1762, 1)"
            ]
          },
          "metadata": {
            "tags": []
          },
          "execution_count": 11
        }
      ]
    },
    {
      "cell_type": "code",
      "metadata": {
        "colab": {
          "base_uri": "https://localhost:8080/",
          "height": 265
        },
        "id": "mBlxnE1WaiEe",
        "outputId": "e26d246c-cb52-4cef-fb41-26b380313263"
      },
      "source": [
        "plt.plot(data_close, color = \"green\")\n",
        "plt.show()"
      ],
      "execution_count": 12,
      "outputs": [
        {
          "output_type": "display_data",
          "data": {
            "image/png": "[encoded data removed]",
            "text/plain": [
              "<Figure size 432x288 with 1 Axes>"
            ]
          },
          "metadata": {
            "tags": [],
            "needs_background": "light"
          }
        }
      ]
    },
    {
      "cell_type": "code",
      "metadata": {
        "id": "NHd_hERva6mc"
      },
      "source": [
        "train_size = int(len(data_close)*0.8)\n",
        "test_size = len(data_close) - train_size\n",
        "train_data = data_close[0:train_size,:]\n",
        "test_data = data_close[train_size:,:]"
      ],
      "execution_count": 13,
      "outputs": []
    },
    {
      "cell_type": "code",
      "metadata": {
        "colab": {
          "base_uri": "https://localhost:8080/"
        },
        "id": "03GHKgAAbwH0",
        "outputId": "f8871ef7-c6ea-4fa0-fca8-a9b6f0929d3a"
      },
      "source": [
        "train_size, test_size"
      ],
      "execution_count": 14,
      "outputs": [
        {
          "output_type": "execute_result",
          "data": {
            "text/plain": [
              "(1409, 353)"
            ]
          },
          "metadata": {
            "tags": []
          },
          "execution_count": 14
        }
      ]
    },
    {
      "cell_type": "code",
      "metadata": {
        "id": "NYs47hzbb4xq"
      },
      "source": [
        "def create_dataset(dataset, time_step=1):\n",
        "    dataX, dataY = [], []\n",
        "    for i in range(len(dataset)-time_step-1):\n",
        "        dataX.append(dataset[i:(i+time_step),0])\n",
        "        dataY.append(dataset[(i+time_step),0])\n",
        "    \n",
        "    return np.array(dataX), np.array(dataY)"
      ],
      "execution_count": 15,
      "outputs": []
    },
    {
      "cell_type": "code",
      "metadata": {
        "id": "pnDDOSSlcOg6"
      },
      "source": [
        "time_step = 100\n",
        "train_x, train_y = create_dataset(train_data, time_step)\n",
        "test_x, test_y = create_dataset(test_data, time_step)"
      ],
      "execution_count": 16,
      "outputs": []
    },
    {
      "cell_type": "code",
      "metadata": {
        "colab": {
          "base_uri": "https://localhost:8080/"
        },
        "id": "_U7VSqe4cVr6",
        "outputId": "4cbe2480-c384-4a7c-9122-a5141157b512"
      },
      "source": [
        "train_x.shape, train_y.shape, test_x.shape, test_y.shape"
      ],
      "execution_count": 17,
      "outputs": [
        {
          "output_type": "execute_result",
          "data": {
            "text/plain": [
              "((1308, 100), (1308,), (252, 100), (252,))"
            ]
          },
          "metadata": {
            "tags": []
          },
          "execution_count": 17
        }
      ]
    },
    {
      "cell_type": "code",
      "metadata": {
        "id": "qsPgYI40caiT"
      },
      "source": [
        "train_x = train_x.reshape(train_x.shape[0],train_x.shape[1],1)\n",
        "test_x = test_x.reshape(test_x.shape[0],test_x.shape[1],1)"
      ],
      "execution_count": 18,
      "outputs": []
    },
    {
      "cell_type": "code",
      "metadata": {
        "colab": {
          "base_uri": "https://localhost:8080/"
        },
        "id": "1O2_xMXichta",
        "outputId": "81d8d663-0daf-4efb-8f24-94463fb4dcc6"
      },
      "source": [
        "train_x.shape, train_y.shape, test_x.shape, test_y.shape"
      ],
      "execution_count": 19,
      "outputs": [
        {
          "output_type": "execute_result",
          "data": {
            "text/plain": [
              "((1308, 100, 1), (1308,), (252, 100, 1), (252,))"
            ]
          },
          "metadata": {
            "tags": []
          },
          "execution_count": 19
        }
      ]
    },
    {
      "cell_type": "code",
      "metadata": {
        "colab": {
          "base_uri": "https://localhost:8080/"
        },
        "id": "pmBz1Wgicjoy",
        "outputId": "3191ba01-6666-4f27-bc22-55a1f5dce322"
      },
      "source": [
        "import tensorflow as tf\n",
        "model = Sequential()\n",
        "model.add(LSTM(50, return_sequences=True, input_shape=(100,1)))\n",
        "model.add(LSTM(50, return_sequences=True))\n",
        "model.add(LSTM(50))\n",
        "model.add(Dense(1))\n",
        "\n",
        "optimizer = tf.keras.optimizers.Adam(learning_rate=2e-04)\n",
        "model.compile(loss=tf.keras.losses.Huber(),optimizer=optimizer,metrics=[\"mae\"])\n",
        "model.summary()"
      ],
      "execution_count": 22,
      "outputs": [
        {
          "output_type": "stream",
          "text": [
            "Model: \"sequential_2\"\n",
            "_________________________________________________________________\n",
            "Layer (type)                 Output Shape              Param #   \n",
            "=================================================================\n",
            "lstm_6 (LSTM)                (None, 100, 50)           10400     \n",
            "_________________________________________________________________\n",
            "lstm_7 (LSTM)                (None, 100, 50)           20200     \n",
            "_________________________________________________________________\n",
            "lstm_8 (LSTM)                (None, 50)                20200     \n",
            "_________________________________________________________________\n",
            "dense_2 (Dense)              (None, 1)                 51        \n",
            "=================================================================\n",
            "Total params: 50,851\n",
            "Trainable params: 50,851\n",
            "Non-trainable params: 0\n",
            "_________________________________________________________________\n"
          ],
          "name": "stdout"
        }
      ]
    },
    {
      "cell_type": "code",
      "metadata": {
        "colab": {
          "base_uri": "https://localhost:8080/"
        },
        "id": "fg1GvYWPdI2h",
        "outputId": "82ef6543-802d-49a3-9cf0-ba5e3564df61"
      },
      "source": [
        "history = model.fit(train_x, train_y, \n",
        "                          validation_data=(test_x, test_y), \n",
        "                          epochs=100, batch_size=64)"
      ],
      "execution_count": 23,
      "outputs": [
        {
          "output_type": "stream",
          "text": [
            "Epoch 1/100\n",
            "21/21 [==============================] - 10s 237ms/step - loss: 0.0503 - mae: 0.2461 - val_loss: 0.0379 - val_mae: 0.2702\n",
            "Epoch 2/100\n",
            "21/21 [==============================] - 4s 180ms/step - loss: 0.0045 - mae: 0.0819 - val_loss: 0.0059 - val_mae: 0.0958\n",
            "Epoch 3/100\n",
            "21/21 [==============================] - 4s 176ms/step - loss: 0.0020 - mae: 0.0523 - val_loss: 0.0013 - val_mae: 0.0412\n",
            "Epoch 4/100\n",
            "21/21 [==============================] - 4s 181ms/step - loss: 8.7691e-04 - mae: 0.0350 - val_loss: 0.0014 - val_mae: 0.0417\n",
            "Epoch 5/100\n",
            "21/21 [==============================] - 4s 180ms/step - loss: 4.6416e-04 - mae: 0.0238 - val_loss: 0.0014 - val_mae: 0.0427\n",
            "Epoch 6/100\n",
            "21/21 [==============================] - 4s 181ms/step - loss: 4.1002e-04 - mae: 0.0212 - val_loss: 0.0015 - val_mae: 0.0450\n",
            "Epoch 7/100\n",
            "21/21 [==============================] - 4s 188ms/step - loss: 4.0585e-04 - mae: 0.0209 - val_loss: 0.0016 - val_mae: 0.0454\n",
            "Epoch 8/100\n",
            "21/21 [==============================] - 4s 181ms/step - loss: 4.0017e-04 - mae: 0.0208 - val_loss: 0.0016 - val_mae: 0.0452\n",
            "Epoch 9/100\n",
            "21/21 [==============================] - 4s 181ms/step - loss: 4.0830e-04 - mae: 0.0209 - val_loss: 0.0016 - val_mae: 0.0463\n",
            "Epoch 10/100\n",
            "21/21 [==============================] - 4s 180ms/step - loss: 3.9761e-04 - mae: 0.0207 - val_loss: 0.0015 - val_mae: 0.0446\n",
            "Epoch 11/100\n",
            "21/21 [==============================] - 4s 181ms/step - loss: 3.9298e-04 - mae: 0.0206 - val_loss: 0.0014 - val_mae: 0.0422\n",
            "Epoch 12/100\n",
            "21/21 [==============================] - 4s 181ms/step - loss: 3.9036e-04 - mae: 0.0204 - val_loss: 0.0015 - val_mae: 0.0436\n",
            "Epoch 13/100\n",
            "21/21 [==============================] - 4s 181ms/step - loss: 3.8322e-04 - mae: 0.0202 - val_loss: 0.0014 - val_mae: 0.0417\n",
            "Epoch 14/100\n",
            "21/21 [==============================] - 4s 180ms/step - loss: 3.8340e-04 - mae: 0.0202 - val_loss: 0.0014 - val_mae: 0.0423\n",
            "Epoch 15/100\n",
            "21/21 [==============================] - 4s 180ms/step - loss: 3.7682e-04 - mae: 0.0200 - val_loss: 0.0013 - val_mae: 0.0401\n",
            "Epoch 16/100\n",
            "21/21 [==============================] - 4s 179ms/step - loss: 3.8103e-04 - mae: 0.0201 - val_loss: 0.0013 - val_mae: 0.0399\n",
            "Epoch 17/100\n",
            "21/21 [==============================] - 4s 179ms/step - loss: 3.7442e-04 - mae: 0.0199 - val_loss: 0.0013 - val_mae: 0.0410\n",
            "Epoch 18/100\n",
            "21/21 [==============================] - 4s 181ms/step - loss: 3.6953e-04 - mae: 0.0198 - val_loss: 0.0013 - val_mae: 0.0407\n",
            "Epoch 19/100\n",
            "21/21 [==============================] - 4s 180ms/step - loss: 3.6666e-04 - mae: 0.0197 - val_loss: 0.0013 - val_mae: 0.0407\n",
            "Epoch 20/100\n",
            "21/21 [==============================] - 4s 179ms/step - loss: 3.6343e-04 - mae: 0.0196 - val_loss: 0.0014 - val_mae: 0.0421\n",
            "Epoch 21/100\n",
            "21/21 [==============================] - 4s 181ms/step - loss: 3.6317e-04 - mae: 0.0196 - val_loss: 0.0013 - val_mae: 0.0402\n",
            "Epoch 22/100\n",
            "21/21 [==============================] - 4s 180ms/step - loss: 3.6014e-04 - mae: 0.0195 - val_loss: 0.0012 - val_mae: 0.0389\n",
            "Epoch 23/100\n",
            "21/21 [==============================] - 4s 181ms/step - loss: 3.5501e-04 - mae: 0.0194 - val_loss: 0.0012 - val_mae: 0.0384\n",
            "Epoch 24/100\n",
            "21/21 [==============================] - 4s 179ms/step - loss: 3.7554e-04 - mae: 0.0197 - val_loss: 0.0013 - val_mae: 0.0416\n",
            "Epoch 25/100\n",
            "21/21 [==============================] - 4s 178ms/step - loss: 3.6335e-04 - mae: 0.0195 - val_loss: 0.0012 - val_mae: 0.0382\n",
            "Epoch 26/100\n",
            "21/21 [==============================] - 4s 183ms/step - loss: 3.5355e-04 - mae: 0.0192 - val_loss: 0.0012 - val_mae: 0.0377\n",
            "Epoch 27/100\n",
            "21/21 [==============================] - 4s 182ms/step - loss: 3.5297e-04 - mae: 0.0192 - val_loss: 0.0014 - val_mae: 0.0433\n",
            "Epoch 28/100\n",
            "21/21 [==============================] - 4s 180ms/step - loss: 3.5605e-04 - mae: 0.0193 - val_loss: 0.0011 - val_mae: 0.0372\n",
            "Epoch 29/100\n",
            "21/21 [==============================] - 4s 181ms/step - loss: 3.4676e-04 - mae: 0.0189 - val_loss: 0.0011 - val_mae: 0.0373\n",
            "Epoch 30/100\n",
            "21/21 [==============================] - 4s 182ms/step - loss: 3.3725e-04 - mae: 0.0187 - val_loss: 0.0011 - val_mae: 0.0370\n",
            "Epoch 31/100\n",
            "21/21 [==============================] - 4s 178ms/step - loss: 3.3981e-04 - mae: 0.0187 - val_loss: 0.0012 - val_mae: 0.0391\n",
            "Epoch 32/100\n",
            "21/21 [==============================] - 4s 183ms/step - loss: 3.3547e-04 - mae: 0.0186 - val_loss: 0.0011 - val_mae: 0.0365\n",
            "Epoch 33/100\n",
            "21/21 [==============================] - 4s 179ms/step - loss: 3.2984e-04 - mae: 0.0184 - val_loss: 0.0011 - val_mae: 0.0359\n",
            "Epoch 34/100\n",
            "21/21 [==============================] - 4s 179ms/step - loss: 3.3095e-04 - mae: 0.0185 - val_loss: 0.0011 - val_mae: 0.0357\n",
            "Epoch 35/100\n",
            "21/21 [==============================] - 4s 177ms/step - loss: 3.3178e-04 - mae: 0.0185 - val_loss: 0.0011 - val_mae: 0.0366\n",
            "Epoch 36/100\n",
            "21/21 [==============================] - 4s 182ms/step - loss: 3.2434e-04 - mae: 0.0182 - val_loss: 0.0010 - val_mae: 0.0353\n",
            "Epoch 37/100\n",
            "21/21 [==============================] - 4s 181ms/step - loss: 3.1994e-04 - mae: 0.0181 - val_loss: 0.0010 - val_mae: 0.0350\n",
            "Epoch 38/100\n",
            "21/21 [==============================] - 4s 185ms/step - loss: 3.2287e-04 - mae: 0.0181 - val_loss: 0.0010 - val_mae: 0.0344\n",
            "Epoch 39/100\n",
            "21/21 [==============================] - 4s 181ms/step - loss: 3.1535e-04 - mae: 0.0179 - val_loss: 0.0010 - val_mae: 0.0348\n",
            "Epoch 40/100\n",
            "21/21 [==============================] - 4s 181ms/step - loss: 3.1134e-04 - mae: 0.0178 - val_loss: 0.0010 - val_mae: 0.0347\n",
            "Epoch 41/100\n",
            "21/21 [==============================] - 4s 183ms/step - loss: 3.0845e-04 - mae: 0.0177 - val_loss: 9.8006e-04 - val_mae: 0.0342\n",
            "Epoch 42/100\n",
            "21/21 [==============================] - 4s 184ms/step - loss: 3.0569e-04 - mae: 0.0175 - val_loss: 9.4241e-04 - val_mae: 0.0331\n",
            "Epoch 43/100\n",
            "21/21 [==============================] - 4s 184ms/step - loss: 3.1769e-04 - mae: 0.0180 - val_loss: 0.0011 - val_mae: 0.0370\n",
            "Epoch 44/100\n",
            "21/21 [==============================] - 4s 185ms/step - loss: 3.1070e-04 - mae: 0.0177 - val_loss: 9.2613e-04 - val_mae: 0.0328\n",
            "Epoch 45/100\n",
            "21/21 [==============================] - 4s 192ms/step - loss: 3.0781e-04 - mae: 0.0177 - val_loss: 9.1314e-04 - val_mae: 0.0322\n",
            "Epoch 46/100\n",
            "21/21 [==============================] - 4s 189ms/step - loss: 2.9717e-04 - mae: 0.0173 - val_loss: 0.0010 - val_mae: 0.0352\n",
            "Epoch 47/100\n",
            "21/21 [==============================] - 4s 193ms/step - loss: 2.9966e-04 - mae: 0.0173 - val_loss: 8.8864e-04 - val_mae: 0.0318\n",
            "Epoch 48/100\n",
            "21/21 [==============================] - 4s 189ms/step - loss: 2.9866e-04 - mae: 0.0172 - val_loss: 9.8276e-04 - val_mae: 0.0326\n",
            "Epoch 49/100\n",
            "21/21 [==============================] - 4s 189ms/step - loss: 3.3505e-04 - mae: 0.0184 - val_loss: 8.9396e-04 - val_mae: 0.0322\n",
            "Epoch 50/100\n",
            "21/21 [==============================] - 4s 189ms/step - loss: 2.9466e-04 - mae: 0.0172 - val_loss: 8.6743e-04 - val_mae: 0.0314\n",
            "Epoch 51/100\n",
            "21/21 [==============================] - 4s 193ms/step - loss: 2.9661e-04 - mae: 0.0172 - val_loss: 9.0443e-04 - val_mae: 0.0313\n",
            "Epoch 52/100\n",
            "21/21 [==============================] - 4s 191ms/step - loss: 2.8913e-04 - mae: 0.0171 - val_loss: 9.6005e-04 - val_mae: 0.0343\n",
            "Epoch 53/100\n",
            "21/21 [==============================] - 4s 188ms/step - loss: 2.9241e-04 - mae: 0.0171 - val_loss: 8.7218e-04 - val_mae: 0.0319\n",
            "Epoch 54/100\n",
            "21/21 [==============================] - 4s 188ms/step - loss: 2.9427e-04 - mae: 0.0173 - val_loss: 8.4623e-04 - val_mae: 0.0302\n",
            "Epoch 55/100\n",
            "21/21 [==============================] - 4s 186ms/step - loss: 2.9477e-04 - mae: 0.0171 - val_loss: 8.2861e-04 - val_mae: 0.0300\n",
            "Epoch 56/100\n",
            "21/21 [==============================] - 4s 187ms/step - loss: 2.9837e-04 - mae: 0.0173 - val_loss: 8.2624e-04 - val_mae: 0.0306\n",
            "Epoch 57/100\n",
            "21/21 [==============================] - 4s 185ms/step - loss: 2.8603e-04 - mae: 0.0167 - val_loss: 8.0911e-04 - val_mae: 0.0298\n",
            "Epoch 58/100\n",
            "21/21 [==============================] - 4s 185ms/step - loss: 2.8430e-04 - mae: 0.0167 - val_loss: 8.4211e-04 - val_mae: 0.0314\n",
            "Epoch 59/100\n",
            "21/21 [==============================] - 4s 189ms/step - loss: 2.7950e-04 - mae: 0.0166 - val_loss: 7.9197e-04 - val_mae: 0.0295\n",
            "Epoch 60/100\n",
            "21/21 [==============================] - 4s 184ms/step - loss: 2.7350e-04 - mae: 0.0165 - val_loss: 0.0011 - val_mae: 0.0376\n",
            "Epoch 61/100\n",
            "21/21 [==============================] - 4s 184ms/step - loss: 2.9013e-04 - mae: 0.0170 - val_loss: 7.9853e-04 - val_mae: 0.0301\n",
            "Epoch 62/100\n",
            "21/21 [==============================] - 4s 187ms/step - loss: 2.7517e-04 - mae: 0.0164 - val_loss: 7.9779e-04 - val_mae: 0.0301\n",
            "Epoch 63/100\n",
            "21/21 [==============================] - 4s 187ms/step - loss: 2.7383e-04 - mae: 0.0165 - val_loss: 9.1905e-04 - val_mae: 0.0338\n",
            "Epoch 64/100\n",
            "21/21 [==============================] - 4s 185ms/step - loss: 2.7125e-04 - mae: 0.0163 - val_loss: 9.0373e-04 - val_mae: 0.0334\n",
            "Epoch 65/100\n",
            "21/21 [==============================] - 4s 181ms/step - loss: 2.6651e-04 - mae: 0.0162 - val_loss: 8.3954e-04 - val_mae: 0.0317\n",
            "Epoch 66/100\n",
            "21/21 [==============================] - 4s 182ms/step - loss: 2.7258e-04 - mae: 0.0164 - val_loss: 7.4951e-04 - val_mae: 0.0283\n",
            "Epoch 67/100\n",
            "21/21 [==============================] - 4s 183ms/step - loss: 2.7790e-04 - mae: 0.0166 - val_loss: 7.6656e-04 - val_mae: 0.0282\n",
            "Epoch 68/100\n",
            "21/21 [==============================] - 4s 182ms/step - loss: 2.7283e-04 - mae: 0.0165 - val_loss: 7.4213e-04 - val_mae: 0.0280\n",
            "Epoch 69/100\n",
            "21/21 [==============================] - 4s 182ms/step - loss: 2.6636e-04 - mae: 0.0163 - val_loss: 7.3676e-04 - val_mae: 0.0278\n",
            "Epoch 70/100\n",
            "21/21 [==============================] - 4s 184ms/step - loss: 2.6544e-04 - mae: 0.0162 - val_loss: 7.4480e-04 - val_mae: 0.0288\n",
            "Epoch 71/100\n",
            "21/21 [==============================] - 4s 180ms/step - loss: 2.5590e-04 - mae: 0.0158 - val_loss: 7.4920e-04 - val_mae: 0.0291\n",
            "Epoch 72/100\n",
            "21/21 [==============================] - 4s 185ms/step - loss: 2.5648e-04 - mae: 0.0158 - val_loss: 7.2324e-04 - val_mae: 0.0280\n",
            "Epoch 73/100\n",
            "21/21 [==============================] - 4s 185ms/step - loss: 2.5247e-04 - mae: 0.0157 - val_loss: 7.4617e-04 - val_mae: 0.0276\n",
            "Epoch 74/100\n",
            "21/21 [==============================] - 4s 183ms/step - loss: 2.5680e-04 - mae: 0.0158 - val_loss: 7.0405e-04 - val_mae: 0.0273\n",
            "Epoch 75/100\n",
            "21/21 [==============================] - 4s 186ms/step - loss: 2.5547e-04 - mae: 0.0158 - val_loss: 7.3569e-04 - val_mae: 0.0273\n",
            "Epoch 76/100\n",
            "21/21 [==============================] - 4s 183ms/step - loss: 2.6396e-04 - mae: 0.0161 - val_loss: 7.6118e-04 - val_mae: 0.0277\n",
            "Epoch 77/100\n",
            "21/21 [==============================] - 4s 182ms/step - loss: 2.5147e-04 - mae: 0.0156 - val_loss: 6.9062e-04 - val_mae: 0.0270\n",
            "Epoch 78/100\n",
            "21/21 [==============================] - 4s 182ms/step - loss: 2.4888e-04 - mae: 0.0155 - val_loss: 6.8062e-04 - val_mae: 0.0266\n",
            "Epoch 79/100\n",
            "21/21 [==============================] - 4s 180ms/step - loss: 2.5223e-04 - mae: 0.0159 - val_loss: 6.7616e-04 - val_mae: 0.0266\n",
            "Epoch 80/100\n",
            "21/21 [==============================] - 4s 183ms/step - loss: 2.4241e-04 - mae: 0.0153 - val_loss: 6.7460e-04 - val_mae: 0.0266\n",
            "Epoch 81/100\n",
            "21/21 [==============================] - 4s 182ms/step - loss: 2.4864e-04 - mae: 0.0156 - val_loss: 7.4483e-04 - val_mae: 0.0295\n",
            "Epoch 82/100\n",
            "21/21 [==============================] - 4s 181ms/step - loss: 2.4230e-04 - mae: 0.0153 - val_loss: 6.7133e-04 - val_mae: 0.0268\n",
            "Epoch 83/100\n",
            "21/21 [==============================] - 4s 182ms/step - loss: 2.4088e-04 - mae: 0.0153 - val_loss: 7.0936e-04 - val_mae: 0.0284\n",
            "Epoch 84/100\n",
            "21/21 [==============================] - 4s 182ms/step - loss: 2.3944e-04 - mae: 0.0153 - val_loss: 6.5944e-04 - val_mae: 0.0265\n",
            "Epoch 85/100\n",
            "21/21 [==============================] - 4s 182ms/step - loss: 2.4494e-04 - mae: 0.0155 - val_loss: 6.6081e-04 - val_mae: 0.0256\n",
            "Epoch 86/100\n",
            "21/21 [==============================] - 4s 182ms/step - loss: 2.3580e-04 - mae: 0.0151 - val_loss: 6.3763e-04 - val_mae: 0.0253\n",
            "Epoch 87/100\n",
            "21/21 [==============================] - 4s 181ms/step - loss: 2.3457e-04 - mae: 0.0152 - val_loss: 6.4556e-04 - val_mae: 0.0252\n",
            "Epoch 88/100\n",
            "21/21 [==============================] - 4s 182ms/step - loss: 2.4206e-04 - mae: 0.0154 - val_loss: 6.2918e-04 - val_mae: 0.0251\n",
            "Epoch 89/100\n",
            "21/21 [==============================] - 4s 182ms/step - loss: 2.3244e-04 - mae: 0.0150 - val_loss: 6.3509e-04 - val_mae: 0.0259\n",
            "Epoch 90/100\n",
            "21/21 [==============================] - 4s 182ms/step - loss: 2.3162e-04 - mae: 0.0149 - val_loss: 6.6342e-04 - val_mae: 0.0272\n",
            "Epoch 91/100\n",
            "21/21 [==============================] - 4s 182ms/step - loss: 2.3076e-04 - mae: 0.0150 - val_loss: 6.1758e-04 - val_mae: 0.0253\n",
            "Epoch 92/100\n",
            "21/21 [==============================] - 4s 182ms/step - loss: 2.4415e-04 - mae: 0.0154 - val_loss: 9.0833e-04 - val_mae: 0.0349\n",
            "Epoch 93/100\n",
            "21/21 [==============================] - 4s 183ms/step - loss: 2.4142e-04 - mae: 0.0155 - val_loss: 6.2127e-04 - val_mae: 0.0257\n",
            "Epoch 94/100\n",
            "21/21 [==============================] - 4s 182ms/step - loss: 2.2520e-04 - mae: 0.0148 - val_loss: 6.3330e-04 - val_mae: 0.0247\n",
            "Epoch 95/100\n",
            "21/21 [==============================] - 4s 180ms/step - loss: 2.2303e-04 - mae: 0.0147 - val_loss: 6.5705e-04 - val_mae: 0.0274\n",
            "Epoch 96/100\n",
            "21/21 [==============================] - 4s 185ms/step - loss: 2.2631e-04 - mae: 0.0149 - val_loss: 6.4045e-04 - val_mae: 0.0269\n",
            "Epoch 97/100\n",
            "21/21 [==============================] - 4s 181ms/step - loss: 2.3786e-04 - mae: 0.0153 - val_loss: 5.8532e-04 - val_mae: 0.0241\n",
            "Epoch 98/100\n",
            "21/21 [==============================] - 4s 182ms/step - loss: 2.2319e-04 - mae: 0.0147 - val_loss: 6.3258e-04 - val_mae: 0.0267\n",
            "Epoch 99/100\n",
            "21/21 [==============================] - 4s 182ms/step - loss: 2.3782e-04 - mae: 0.0152 - val_loss: 5.7717e-04 - val_mae: 0.0240\n",
            "Epoch 100/100\n",
            "21/21 [==============================] - 4s 183ms/step - loss: 2.1936e-04 - mae: 0.0146 - val_loss: 5.7452e-04 - val_mae: 0.0241\n"
          ],
          "name": "stdout"
        }
      ]
    },
    {
      "cell_type": "code",
      "metadata": {
        "colab": {
          "base_uri": "https://localhost:8080/"
        },
        "id": "Z5Nq1hTrddvx",
        "outputId": "a057b0f8-7f20-47eb-ddf9-85d8ebe6d1a8"
      },
      "source": [
        "history.history.keys()"
      ],
      "execution_count": 24,
      "outputs": [
        {
          "output_type": "execute_result",
          "data": {
            "text/plain": [
              "dict_keys(['loss', 'mae', 'val_loss', 'val_mae'])"
            ]
          },
          "metadata": {
            "tags": []
          },
          "execution_count": 24
        }
      ]
    },
    {
      "cell_type": "code",
      "metadata": {
        "colab": {
          "base_uri": "https://localhost:8080/",
          "height": 373
        },
        "id": "3KJfSxlNdgEI",
        "outputId": "5f62c1b8-0c5d-4e1f-b893-51a0019cdd6d"
      },
      "source": [
        "plt.figure(figsize=[10,6])\n",
        "plt.plot(history.history['loss'], label='train loss')\n",
        "plt.plot(history.history['val_loss'], label='val loss')\n",
        "plt.legend()\n",
        "plt.show()"
      ],
      "execution_count": 25,
      "outputs": [
        {
          "output_type": "display_data",
          "data": {
            "image/png": "[encoded data removed]",
            "text/plain": [
              "<Figure size 720x432 with 1 Axes>"
            ]
          },
          "metadata": {
            "tags": [],
            "needs_background": "light"
          }
        }
      ]
    },
    {
      "cell_type": "markdown",
      "metadata": {
        "id": "7phuJ34gd_Lv"
      },
      "source": [
        "Prediksi dalam Grafik"
      ]
    },
    {
      "cell_type": "code",
      "metadata": {
        "id": "zl1b1-z3dtMQ"
      },
      "source": [
        "train_predict = model.predict(train_x)\n",
        "test_predict = model.predict(test_x)"
      ],
      "execution_count": 26,
      "outputs": []
    },
    {
      "cell_type": "code",
      "metadata": {
        "colab": {
          "base_uri": "https://localhost:8080/",
          "height": 482
        },
        "id": "I12eTxaSdt-A",
        "outputId": "d83860ac-9403-4b87-a591-079d19dc0028"
      },
      "source": [
        "trainPredictPlot = np.empty_like(data_close)\n",
        "trainPredictPlot[:, :] = np.nan\n",
        "trainPredictPlot[time_step:len(train_predict)+time_step,:] = train_predict\n",
        "\n",
        "testPredictPlot = np.empty_like(data_close)\n",
        "testPredictPlot[:, :] = np.nan\n",
        "testPredictPlot[len(train_predict) + (time_step*2) +1:len(data_close)-1, :] = test_predict\n",
        "\n",
        "plt.figure(figsize=[12,8])\n",
        "plt.plot(scaler.inverse_transform(data_close), color = \"green\", label = 'Penutupan Harga Saham')\n",
        "plt.plot(scaler.inverse_transform(trainPredictPlot), color = \"blue\", label = 'Prediksi latih')\n",
        "plt.plot(scaler.inverse_transform(testPredictPlot), color = \"red\", label = 'Prediksi akhir')\n",
        "plt.legend()\n",
        "plt.show()"
      ],
      "execution_count": 27,
      "outputs": [
        {
          "output_type": "display_data",
          "data": {
            "image/png": "[encoded data removed]",
            "text/plain": [
              "<Figure size 864x576 with 1 Axes>"
            ]
          },
          "metadata": {
            "tags": [],
            "needs_background": "light"
          }
        }
      ]
    }
  ]
}